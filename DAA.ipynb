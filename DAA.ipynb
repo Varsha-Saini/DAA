{
  "cells": [
    {
      "cell_type": "markdown",
      "metadata": {
        "id": "view-in-github",
        "colab_type": "text"
      },
      "source": [
        "<a href=\"https://colab.research.google.com/github/Varsha-Saini/DAA/blob/main/DAA.ipynb\" target=\"_parent\"><img src=\"https://colab.research.google.com/assets/colab-badge.svg\" alt=\"Open In Colab\"/></a>"
      ]
    },
    {
      "cell_type": "code",
      "execution_count": 1,
      "metadata": {
        "id": "ZbNp5MkNGGIQ"
      },
      "outputs": [],
      "source": [
        "\n",
        "\n"
      ]
    },
    {
      "cell_type": "code",
      "execution_count": 4,
      "metadata": {
        "id": "uBVL4SSyM7zN",
        "colab": {
          "base_uri": "https://localhost:8080/"
        },
        "outputId": "1ddf8773-168d-4de8-98dd-aade53730a2e"
      },
      "outputs": [
        {
          "output_type": "stream",
          "name": "stdout",
          "text": [
            "start  |   fnish  | profit\n",
            "     0 |    3     | 2\n",
            "     2 |    5     | 4\n",
            "     4 |    7     | 4\n",
            "     2 |    8     | 7\n",
            "     7 |    9     | 2\n",
            "     7 |    10     | 1\n",
            "Maximum profit is :  8\n"
          ]
        }
      ],
      "source": [
        "# WEIGHTED INTERVAL SCHEDULING\n",
        "class job:\n",
        "  def __init__(self,start,finish,profit):\n",
        "    self.s=start\n",
        "    self.f=finish\n",
        "    self.p=profit\n",
        "\n",
        "\n",
        "#function to find the righmost non conflicting index\n",
        "def non_conflict_i(arr,i):\n",
        "  for j in range(i-1,-1,-1):\n",
        "    if arr[j].f<=arr[i].s:\n",
        "      return j+1\n",
        "\n",
        "  return -1\n",
        "\n",
        "def max_profit(arr,n):\n",
        "  #Base Case\n",
        "  if n == 1:\n",
        "    return arr[n-1].p\n",
        "\n",
        "  #CASE I : including the nth job\n",
        "  include_n=arr[n-1].p\n",
        "  c=non_conflict_i(arr,n-1)\n",
        "\n",
        "  if c!=-1:\n",
        "    include_n+=max_profit(arr,c)\n",
        "\n",
        "  #CASE II : excluding the nth job\n",
        "  exclude_n=max_profit(arr,n-1)\n",
        "\n",
        "  #maximising the profit\n",
        "  return max(include_n,exclude_n)\n",
        "\n",
        "def main():\n",
        "  num = 6 #number of jobs\n",
        "\n",
        "  #Array to store the jobs in the format[s,f,p]\n",
        "  arr=[job(0,3,2),job(2,5,4),job(4,7,4),job(2,8,7),job(7,9,2),job(7,10,1)]\n",
        "\n",
        "  #sorting the jobs in increasing order of their finishing times\n",
        "  arr = sorted (arr, key = lambda x: x.f)\n",
        "\n",
        "  #printing the jobs\n",
        "  print(\"start  |   fnish  | profit\")\n",
        "  for i in arr:\n",
        "    print(\"    \",i.s,\"|\",\"  \",i.f,\"   \",\"|\",i.p)\n",
        "\n",
        "  #printing the maimum profit\n",
        "  print(\"Maximum profit is : \",max_profit(arr,num))\n",
        "\n",
        "\n",
        "main()\n",
        "\n",
        "\n",
        "\n"
      ]
    },
    {
      "cell_type": "code",
      "source": [
        "#Knapsack Problem\n",
        "class item:\n",
        "  def __init__(self,value,weight):\n",
        "    self.v=value\n",
        "    self.w=weight\n",
        "\n",
        "def opt(lst,n,w):\n",
        "  #base case\n",
        "  if n==0 or w==0:\n",
        "    return 0\n",
        "\n",
        "  if lst[n-1].w > w:\n",
        "    return opt(lst,n-1,w)\n",
        "\n",
        "  return max(\n",
        "      opt(lst,n-1,w-lst[n-1].w)+lst[n-1].v,\n",
        "      opt(lst,n-1,w))\n",
        "\n",
        "def main():\n",
        "  #n = int(input(\"Enter the number of items : \")) #number of items\n",
        "  w_max=int(input(\"Enter the capacity of the knapsack: \"))\n",
        "  #lst=[]\n",
        "\n",
        "  #Array to store the items in the format[v,w]\n",
        "  '''for i in range(n):\n",
        "    print(\"Enter the value for item \",i+1)\n",
        "    v=int(input())\n",
        "    print(\"Enter the weight for item \",i+1)\n",
        "    w=int(input())\n",
        "    lst.append(item(v,w))'''\n",
        "\n",
        "  lst=[item(3,2),item(4,3),item(5,4),item(6,5)]\n",
        "  n=len(lst)\n",
        "\n",
        "  print(\"item_val  | item_weight\")\n",
        "  for i in lst:\n",
        "    print(\"       \",i.v,\"|\",\"       \",i.w)\n",
        "  print(\"Maximum value in knapsack : \",opt(lst,n,w_max))\n",
        "\n",
        "\n",
        "main()\n"
      ],
      "metadata": {
        "colab": {
          "base_uri": "https://localhost:8080/"
        },
        "id": "Drthmc1H0-ML",
        "outputId": "bade7dc2-f1bc-4c08-d3de-e7681a4c8c5d"
      },
      "execution_count": null,
      "outputs": [
        {
          "output_type": "stream",
          "name": "stdout",
          "text": [
            "Enter the capacity of the knapsack: 5\n",
            "item_val  | item_weight\n",
            "       3 |         2\n",
            "       4 |         3\n",
            "       5 |         4\n",
            "       6 |         5\n",
            "7\n"
          ]
        }
      ]
    },
    {
      "cell_type": "code",
      "source": [
        "#IN PROGRESS\n",
        "#LONGEST SUBSEQUENCE\n",
        "def opt(l):\n",
        "  n=len(l)\n",
        "  s=[]\n",
        "  if l[-1]>l[-2]:\n",
        "    if( len(opt(l[1:-2])+l[-1])>len(opt(l[1:-2]))):\n",
        "      s[-1]=l[-1]\n",
        "    else:\n",
        "      opt(l[1:-2])\n",
        "  else:\n",
        "    opt(l[1:-2])\n",
        "\n",
        "  return s\n",
        "\n",
        "def main():\n",
        "  l=[]\n",
        "  n=int(input(\"Enter no of elements in the set : \"))\n",
        "  for i in range(n):\n",
        "    num=int(input(\"Enter the list element : \"))\n",
        "    l.append(num)\n",
        "  ans=opt(l)\n",
        "  print(\"Length of longest subsequence is \",ans)\n",
        "\n",
        "main()\n",
        "\n"
      ],
      "metadata": {
        "id": "S4HOMgvxAXJR"
      },
      "execution_count": null,
      "outputs": []
    },
    {
      "cell_type": "code",
      "source": [
        "#Longest palindrome subsequence\n"
      ],
      "metadata": {
        "id": "-ENn6Dlj-vY7"
      },
      "execution_count": null,
      "outputs": []
    }
  ],
  "metadata": {
    "colab": {
      "provenance": [],
      "authorship_tag": "ABX9TyOthMqg05Mvz+K224OIUxxF",
      "include_colab_link": true
    },
    "kernelspec": {
      "display_name": "Python 3",
      "name": "python3"
    },
    "language_info": {
      "name": "python"
    }
  },
  "nbformat": 4,
  "nbformat_minor": 0
}